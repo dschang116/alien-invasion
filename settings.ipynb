{
 "cells": [
  {
   "cell_type": "code",
   "execution_count": 51,
   "metadata": {},
   "outputs": [],
   "source": [
    "class Settings:\n",
    "    \"\"\"A class to store all settings for Alien Invasion!\"\"\"\n",
    "    \n",
    "    def __init__(self):\n",
    "        \"\"\"Initialize the game's static settings.\"\"\"\n",
    "        # Screen settings.\n",
    "        self.screen_width = 1200\n",
    "        self.screen_height = 800\n",
    "        self.bg_color = (230, 230, 230)\n",
    "        \n",
    "        # Ship settings.\n",
    "        self.ship_limit = 3\n",
    "        \n",
    "        # Bullet settings.\n",
    "        self.bullet_width = 3\n",
    "        self.bullet_height = 15\n",
    "        self.bullet_color = (60, 60, 60)\n",
    "        self.bullets_allowed = 3\n",
    "        \n",
    "        # Alien settings.\n",
    "        self.fleet_drop_speed = 10\n",
    "        \n",
    "        # How quickly the game speeds up.\n",
    "        self.speedup_scale = 1.1\n",
    "        \n",
    "        # How quickly the alien point values increase.\n",
    "        self.score_scale = 1.5\n",
    "        \n",
    "        self.initialize_dynamic_settings()\n",
    "        \n",
    "    def initialize_dynamic_settings(self):\n",
    "        \"\"\"Initialize settings that change throughout the game.\"\"\"\n",
    "        self.ship_speed = 1.5\n",
    "        self.bullet_speed = 3.0\n",
    "        self.alien_speed = 1.0\n",
    "        \n",
    "        # fleet_direction of 1 represents right; -1 represents left.\n",
    "        self.fleet_direction = 1\n",
    "        \n",
    "        # Scoring.\n",
    "        self.alien_points = 50\n",
    "    \n",
    "    def increase_speed(self):\n",
    "        \"\"\"Increase speed settings and alien point values.\"\"\"\n",
    "        self.ship_speed *= self.speedup_scale\n",
    "        self.bullet_speed *= self.speedup_scale\n",
    "        self.alien_speed *= self.speedup_scale\n",
    "\n",
    "        self.alien_points = int(self.alien_points * self.score_scale)\n"
   ]
  },
  {
   "cell_type": "code",
   "execution_count": null,
   "metadata": {},
   "outputs": [],
   "source": []
  }
 ],
 "metadata": {
  "kernelspec": {
   "display_name": "Python 3",
   "language": "python",
   "name": "python3"
  },
  "language_info": {
   "codemirror_mode": {
    "name": "ipython",
    "version": 3
   },
   "file_extension": ".py",
   "mimetype": "text/x-python",
   "name": "python",
   "nbconvert_exporter": "python",
   "pygments_lexer": "ipython3",
   "version": "3.8.5"
  }
 },
 "nbformat": 4,
 "nbformat_minor": 4
}
