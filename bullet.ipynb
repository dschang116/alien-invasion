{
 "cells": [
  {
   "cell_type": "code",
   "execution_count": 1,
   "metadata": {},
   "outputs": [
    {
     "name": "stdout",
     "output_type": "stream",
     "text": [
      "pygame 2.0.1 (SDL 2.0.14, Python 3.8.5)\n",
      "Hello from the pygame community. https://www.pygame.org/contribute.html\n"
     ]
    }
   ],
   "source": [
    "import pygame\n",
    "from pygame.sprite import Sprite"
   ]
  },
  {
   "cell_type": "code",
   "execution_count": 7,
   "metadata": {},
   "outputs": [],
   "source": [
    "class Bullet(Sprite):\n",
    "    \"\"\"A class to manage bullets fired from the ship.\"\"\"\n",
    "    \n",
    "    def __init__(self, ai_game):\n",
    "        \"\"\"Create a bullet object at the ship's current position.\"\"\"\n",
    "        # Call super() to inherit properly from Sprite.\n",
    "        super().__init__()\n",
    "        self.screen = ai_game.screen\n",
    "        self.settings = ai_game.settings\n",
    "        self.color = self.settings.bullet_color\n",
    "        \n",
    "        # Create a bullet rect at (0, 0) and then set correct position.\n",
    "        self.rect = pygame.Rect(0, 0, self.settings.bullet_width, self.settings.bullet_height)\n",
    "        self.rect.midtop = ai_game.ship.rect.midtop\n",
    "        \n",
    "        # Store the bullet's position as a decimal value.\n",
    "        self.y = float(self.rect.y)\n",
    "    \n",
    "    def update(self):\n",
    "        \"\"\"Move the bullet up the screen.\"\"\"\n",
    "        # Update the decimal position of the bullet.\n",
    "        self.y -= self.settings.bullet_speed\n",
    "        # Update the rect position.\n",
    "        self.rect.y = self.y\n",
    "    \n",
    "    def draw_bullet(self):\n",
    "        \"\"\"Draw the bullet to the screen.\"\"\"\n",
    "        pygame.draw.rect(self.screen, self.color, self.rect)"
   ]
  }
 ],
 "metadata": {
  "kernelspec": {
   "display_name": "Python 3",
   "language": "python",
   "name": "python3"
  },
  "language_info": {
   "codemirror_mode": {
    "name": "ipython",
    "version": 3
   },
   "file_extension": ".py",
   "mimetype": "text/x-python",
   "name": "python",
   "nbconvert_exporter": "python",
   "pygments_lexer": "ipython3",
   "version": "3.8.5"
  }
 },
 "nbformat": 4,
 "nbformat_minor": 4
}
