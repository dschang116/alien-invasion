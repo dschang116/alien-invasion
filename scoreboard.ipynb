{
 "cells": [
  {
   "cell_type": "code",
   "execution_count": 22,
   "metadata": {},
   "outputs": [
    {
     "name": "stdout",
     "output_type": "stream",
     "text": [
      "importing Jupyter notebook from ship.ipynb\n"
     ]
    }
   ],
   "source": [
    "import pygame.font\n",
    "from pygame.sprite import Group\n",
    "\n",
    "import import_ipynb\n",
    "from ship import Ship"
   ]
  },
  {
   "cell_type": "code",
   "execution_count": 26,
   "metadata": {},
   "outputs": [],
   "source": [
    "class Scoreboard:\n",
    "    \"\"\"A class to report scoring information.\"\"\"\n",
    "    \n",
    "    def __init__(self, ai_game):\n",
    "        \"\"\"Initialize scorekeeping attributes.\"\"\"\n",
    "        self.ai_game = ai_game\n",
    "        self.screen = ai_game.screen\n",
    "        self.screen_rect = self.screen.get_rect()\n",
    "        self.settings = ai_game.settings\n",
    "        self.stats = ai_game.stats\n",
    "        \n",
    "        # Font settings for scoring information.\n",
    "        self.text_color = (30, 30, 30)\n",
    "        self.font = pygame.font.SysFont(None, 48)\n",
    "        \n",
    "        # Prepare the initial score images.\n",
    "        self.prep_score()\n",
    "        self.prep_high_score()\n",
    "        self.prep_level()\n",
    "        self.prep_ships()\n",
    "        \n",
    "    def prep_score(self):\n",
    "        \"\"\"Turn the score into a rendered image.\"\"\"\n",
    "        rounded_score = round(self.stats.score, -1)\n",
    "        score_str = \"{:,}\".format(rounded_score)\n",
    "        self.score_image = self.font.render(score_str, True, self.text_color, self.settings.bg_color)\n",
    "        \n",
    "        # Display the score at the top right of the screen.\n",
    "        self.score_rect = self.score_image.get_rect()\n",
    "        self.score_rect.right = self.screen_rect.right - 20\n",
    "        self.score_rect.top = 20\n",
    "        \n",
    "    def prep_high_score(self):\n",
    "        \"\"\"Turn the high score into a rendered image.\"\"\"\n",
    "        # Round to the high score to the nearest 10 and format it with commas.\n",
    "        high_score = round(self.stats.high_score, -1)\n",
    "        high_score_str = \"{:,}\".format(high_score)\n",
    "        self.high_score_image = self.font.render(high_score_str, True, self.text_color, self.settings.bg_color)\n",
    "        \n",
    "        # Center the high score at the top of the screen.\n",
    "        self.high_score_rect = self.high_score_image.get_rect()\n",
    "        self.high_score_rect.centerx = self.screen_rect.centerx\n",
    "        self.high_score_rect.top = self.score_rect.top\n",
    "        \n",
    "    def prep_level(self):\n",
    "        \"\"\"Turn the level into a rendered image.\"\"\"\n",
    "        level_str = str(self.stats.level)\n",
    "        self.level_image = self.font.render(level_str, True, self.text_color, self.settings.bg_color)\n",
    "        \n",
    "        # Position the level below the score.\n",
    "        self.level_rect = self.level_image.get_rect()\n",
    "        self.level_rect.right = self.score_rect.right\n",
    "        self.level_rect.top = self.score_rect.bottom + 10\n",
    "        \n",
    "    def prep_ships(self):\n",
    "        \"\"\"Show how many ships are left.\"\"\"\n",
    "        # Create an empty group to hold the ship instances.\n",
    "        self.ships = Group()\n",
    "        for ship_number in range(self.stats.ships_left):\n",
    "            ship = Ship(self.ai_game)\n",
    "            ship.rect.x = 10 + ship_number * ship.rect.width\n",
    "            ship.rect.y = 10\n",
    "            self.ships.add(ship)\n",
    "        \n",
    "    def show_score(self):\n",
    "        \"\"\"Draw scores, level, and ships to the screen.\"\"\"\n",
    "        self.screen.blit(self.score_image, self.score_rect)\n",
    "        self.screen.blit(self.high_score_image, self.high_score_rect)\n",
    "        self.screen.blit(self.level_image, self.level_rect)\n",
    "        self.ships.draw(self.screen)\n",
    "        \n",
    "    def check_high_score(self):\n",
    "        \"\"\"Check to see if there's a new high score.\"\"\"\n",
    "        if self.stats.score > self.stats.high_score:\n",
    "            self.stats.high_score = self.stats.score\n",
    "            self.prep_high_score()\n",
    "        "
   ]
  }
 ],
 "metadata": {
  "kernelspec": {
   "display_name": "Python 3",
   "language": "python",
   "name": "python3"
  },
  "language_info": {
   "codemirror_mode": {
    "name": "ipython",
    "version": 3
   },
   "file_extension": ".py",
   "mimetype": "text/x-python",
   "name": "python",
   "nbconvert_exporter": "python",
   "pygments_lexer": "ipython3",
   "version": "3.8.5"
  }
 },
 "nbformat": 4,
 "nbformat_minor": 4
}
