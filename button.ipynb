{
 "cells": [
  {
   "cell_type": "code",
   "execution_count": 1,
   "metadata": {},
   "outputs": [
    {
     "name": "stdout",
     "output_type": "stream",
     "text": [
      "pygame 2.0.1 (SDL 2.0.14, Python 3.8.5)\n",
      "Hello from the pygame community. https://www.pygame.org/contribute.html\n"
     ]
    }
   ],
   "source": [
    "# The pygame.font module lets Pygame render text to the screen.\n",
    "import pygame.font"
   ]
  },
  {
   "cell_type": "code",
   "execution_count": 5,
   "metadata": {},
   "outputs": [],
   "source": [
    "class Button:\n",
    "    \n",
    "    def __init__(self, ai_game, msg):\n",
    "        \"\"\"Initialize button attributes.\"\"\"\n",
    "        self.screen = ai_game.screen\n",
    "        self.screen_rect = ai_game.screen.get_rect()\n",
    "        \n",
    "        # Set the dimenions and properties of the button.\n",
    "        self.width, self.height = 200, 50\n",
    "        self.button_color = (0, 255, 0)\n",
    "        self.text_color = (255, 255, 255)\n",
    "        # Use the default font; 48 specifies the size of the text.\n",
    "        self.font = pygame.font.SysFont(None, 48)\n",
    "        \n",
    "        # Build the button's rect object and center it.\n",
    "        self.rect = pygame.Rect(0, 0, self.width, self.height)\n",
    "        self.rect.center = self.screen_rect.center\n",
    "        \n",
    "        # The button message needs to be prepped only once.\n",
    "        self._prep_msg(msg)\n",
    "        \n",
    "    def _prep_msg(self, msg):\n",
    "        \"\"\"Turn msg into a rendered image and center text on the button.\"\"\"\n",
    "        self.msg_image = self.font.render(msg, True, self.text_color, self.button_color)\n",
    "        self.msg_image_rect = self.msg_image.get_rect()\n",
    "        self.msg_image_rect.center = self.rect.center\n",
    "        \n",
    "    def draw_button(self):\n",
    "        # Draw blank button and then draw message.\n",
    "        self.screen.fill(self.button_color, self.rect)\n",
    "        self.screen.blit(self.msg_image, self.msg_image_rect)"
   ]
  }
 ],
 "metadata": {
  "kernelspec": {
   "display_name": "Python 3",
   "language": "python",
   "name": "python3"
  },
  "language_info": {
   "codemirror_mode": {
    "name": "ipython",
    "version": 3
   },
   "file_extension": ".py",
   "mimetype": "text/x-python",
   "name": "python",
   "nbconvert_exporter": "python",
   "pygments_lexer": "ipython3",
   "version": "3.8.5"
  }
 },
 "nbformat": 4,
 "nbformat_minor": 4
}
