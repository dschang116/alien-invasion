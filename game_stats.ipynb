{
 "cells": [
  {
   "cell_type": "code",
   "execution_count": 6,
   "metadata": {},
   "outputs": [],
   "source": [
    "class GameStats:\n",
    "    \"\"\"Track statistics for Alien Invasion!.\"\"\"\n",
    "    \n",
    "    def __init__(self, ai_game):\n",
    "        \"\"\"Initialize statistics.\"\"\"\n",
    "        self.settings = ai_game.settings\n",
    "        # Reset statistics each time the player starts a new game.\n",
    "        self.reset_stats()\n",
    "        \n",
    "        # Start Alien Invasion! in an inactive state.\n",
    "        self.game_active = False\n",
    "        \n",
    "        # High score should never be reset.\n",
    "        self.high_score = 0\n",
    "        \n",
    "        self.level = 1\n",
    "    \n",
    "    def reset_stats(self):\n",
    "        \"\"\"Initialize statistics that can change during the game.\"\"\"\n",
    "        self.ships_left = self.settings.ship_limit\n",
    "        self.score = 0"
   ]
  }
 ],
 "metadata": {
  "kernelspec": {
   "display_name": "Python 3",
   "language": "python",
   "name": "python3"
  },
  "language_info": {
   "codemirror_mode": {
    "name": "ipython",
    "version": 3
   },
   "file_extension": ".py",
   "mimetype": "text/x-python",
   "name": "python",
   "nbconvert_exporter": "python",
   "pygments_lexer": "ipython3",
   "version": "3.8.5"
  }
 },
 "nbformat": 4,
 "nbformat_minor": 4
}
