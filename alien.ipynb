{
 "cells": [
  {
   "cell_type": "code",
   "execution_count": 2,
   "metadata": {},
   "outputs": [
    {
     "name": "stdout",
     "output_type": "stream",
     "text": [
      "pygame 2.0.1 (SDL 2.0.14, Python 3.8.5)\n",
      "Hello from the pygame community. https://www.pygame.org/contribute.html\n"
     ]
    }
   ],
   "source": [
    "import pygame\n",
    "from pygame.sprite import Sprite"
   ]
  },
  {
   "cell_type": "code",
   "execution_count": 7,
   "metadata": {},
   "outputs": [],
   "source": [
    "class Alien(Sprite):\n",
    "    \"\"\"A class to represent a single alien in the fleet.\"\"\"\n",
    "    \n",
    "    def __init__(self, ai_game):\n",
    "        \"\"\"Initialize the alien and set its starting position.\"\"\"\n",
    "        super().__init__()\n",
    "        self.screen = ai_game.screen\n",
    "        self.settings = ai_game.settings\n",
    "        \n",
    "        # Load the alien image and set its rect attribute.\n",
    "        self.image = pygame.image.load('images/alien.bmp')\n",
    "        self.rect = self.image.get_rect()\n",
    "        \n",
    "        # Start each new alien near the top left of the screen.\n",
    "        self.rect.x = self.rect.width\n",
    "        self.rect.y = self.rect.height\n",
    "        \n",
    "        # Store the alien's exact horizontal position.\n",
    "        self.x = float(self.rect.x)\n",
    "        \n",
    "    def check_edges(self):\n",
    "        \"\"\"Return True if alien is at edge of screen.\"\"\"\n",
    "        screen_rect = self.screen.get_rect()\n",
    "        if self.rect.right >= screen_rect.right or self.rect.left <= 0:\n",
    "            return True    \n",
    "        \n",
    "    def update(self):\n",
    "        \"\"\"Move the alien right or left.\"\"\"\n",
    "        self.x += (self.settings.alien_speed * self.settings.fleet_direction)\n",
    "        self.rect.x = self.x"
   ]
  }
 ],
 "metadata": {
  "kernelspec": {
   "display_name": "Python 3",
   "language": "python",
   "name": "python3"
  },
  "language_info": {
   "codemirror_mode": {
    "name": "ipython",
    "version": 3
   },
   "file_extension": ".py",
   "mimetype": "text/x-python",
   "name": "python",
   "nbconvert_exporter": "python",
   "pygments_lexer": "ipython3",
   "version": "3.8.5"
  }
 },
 "nbformat": 4,
 "nbformat_minor": 4
}
