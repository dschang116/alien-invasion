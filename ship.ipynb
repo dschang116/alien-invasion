{
 "cells": [
  {
   "cell_type": "code",
   "execution_count": 11,
   "metadata": {},
   "outputs": [],
   "source": [
    "import pygame\n",
    "from pygame.sprite import Sprite"
   ]
  },
  {
   "cell_type": "code",
   "execution_count": 12,
   "metadata": {},
   "outputs": [],
   "source": [
    "class Ship(Sprite):\n",
    "    \"\"\"A class to manage the ship.\"\"\"\n",
    "    \n",
    "    def __init__(self, ai_game):\n",
    "        \"\"\"Initialize the ship and set its starting position.\"\"\"\n",
    "        super().__init__()\n",
    "        self.screen = ai_game.screen\n",
    "        self.settings = ai_game.settings\n",
    "        self.screen_rect = ai_game.screen.get_rect()\n",
    "        \n",
    "        # Load the ship image and get its rect.\n",
    "        self.image = pygame.image.load('images/ship.bmp')\n",
    "        self.rect = self.image.get_rect()\n",
    "        \n",
    "        # Start each new ship at the bottom center of the screen.\n",
    "        self.rect.midbottom = self.screen_rect.midbottom\n",
    "        \n",
    "        # Store a decimal value for the ship's horizontal position.\n",
    "        self.x = float(self.rect.x)\n",
    "        \n",
    "        # Movement flag.\n",
    "        self.moving_right = False\n",
    "        self.moving_left = False\n",
    "    \n",
    "    def update(self):\n",
    "        \"\"\"Update the ship's position based on the movement flag.\"\"\"\n",
    "        # Use two if blocks to account for when both arrow keys are held down.\n",
    "        # Update the ship's x value, not the rect.\n",
    "        if self.moving_right and self.rect.right < self.screen_rect.right:\n",
    "            self.x += self.settings.ship_speed\n",
    "        if self.moving_left and self.rect.left > 0:\n",
    "            self.x -= self.settings.ship_speed\n",
    "            \n",
    "        # Update rect object from self.x.\n",
    "        self.rect.x = self.x\n",
    "        \n",
    "    def blitme(self):\n",
    "        \"\"\"Draw the ship at its current location.\"\"\"\n",
    "        self.screen.blit(self.image, self.rect)\n",
    "        \n",
    "    def center_ship(self):\n",
    "        \"\"\"Center the ship on the screen.\"\"\"\n",
    "        self.rect.midbottom = self.screen_rect.midbottom\n",
    "        self.x = float(self.rect.x)"
   ]
  }
 ],
 "metadata": {
  "kernelspec": {
   "display_name": "Python 3",
   "language": "python",
   "name": "python3"
  },
  "language_info": {
   "codemirror_mode": {
    "name": "ipython",
    "version": 3
   },
   "file_extension": ".py",
   "mimetype": "text/x-python",
   "name": "python",
   "nbconvert_exporter": "python",
   "pygments_lexer": "ipython3",
   "version": "3.8.5"
  }
 },
 "nbformat": 4,
 "nbformat_minor": 4
}
